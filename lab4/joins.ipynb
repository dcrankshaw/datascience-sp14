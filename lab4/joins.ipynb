{
 "metadata": {
  "name": ""
 },
 "nbformat": 3,
 "nbformat_minor": 0,
 "worksheets": [
  {
   "cells": [
    {
     "cell_type": "markdown",
     "metadata": {},
     "source": [
      "# Joining DataFrames in Pandas\n",
      "\n",
      "In previous labs, we've explored the power tables as a data management abstraction, in particular with the Pandas DataFrame object.\n",
      "Tables let us select rows and columns of interest, group data, and measure aggregates.\n",
      "\n",
      "But what happens when we have more than one table?\n",
      "Traditional relational databases usually contain many tables.\n",
      "Moreover, when integrating multiple data sets, we necessarily need tools to combine them.\n",
      "\n",
      "In this lab, we will use Panda's take on the database **join** operation to see how tables can be linked together.\n",
      "Specifically, we're going to perform a \"fuzzy join\" based on string edit-distance as another approach to finding duplicate records."
     ]
    },
    {
     "cell_type": "markdown",
     "metadata": {},
     "source": [
      "## Data\n",
      "\n",
      "Today we'll be using a small data set of restaurants.\n",
      "Download the data from [here FIXME BROKEN LINK]().\n",
      "Put the data file, \"restaurants.csv\", in the same directory as this notebook."
     ]
    },
    {
     "cell_type": "markdown",
     "metadata": {},
     "source": [
      "## Edit Distance\n",
      "\n",
      "TODO: INSTRUCTIONS FOR INSTALLING LEVENSHTEIN DISTANCE"
     ]
    },
    {
     "cell_type": "markdown",
     "metadata": {},
     "source": [
      "## Joins\n",
      "\n",
      "A **join** is a way to connect rows in two different data tables based on some criteria.\n",
      "Suppose the university has a database for student records with two tables in it: *Students* and *Grades*.\n"
     ]
    },
    {
     "cell_type": "code",
     "collapsed": false,
     "input": [
      "import pandas as pd\n",
      "\n",
      "Students = pd.DataFrame({'student_id': [1, 2], 'name': ['Alice', 'Bob']})\n",
      "Students"
     ],
     "language": "python",
     "metadata": {},
     "outputs": [
      {
       "html": [
        "<div style=\"max-height:1000px;max-width:1500px;overflow:auto;\">\n",
        "<table border=\"1\" class=\"dataframe\">\n",
        "  <thead>\n",
        "    <tr style=\"text-align: right;\">\n",
        "      <th></th>\n",
        "      <th>name</th>\n",
        "      <th>student_id</th>\n",
        "    </tr>\n",
        "  </thead>\n",
        "  <tbody>\n",
        "    <tr>\n",
        "      <th>0</th>\n",
        "      <td> Alice</td>\n",
        "      <td> 1</td>\n",
        "    </tr>\n",
        "    <tr>\n",
        "      <th>1</th>\n",
        "      <td>   Bob</td>\n",
        "      <td> 2</td>\n",
        "    </tr>\n",
        "  </tbody>\n",
        "</table>\n",
        "<p>2 rows \u00d7 2 columns</p>\n",
        "</div>"
       ],
       "metadata": {},
       "output_type": "pyout",
       "prompt_number": 156,
       "text": [
        "    name  student_id\n",
        "0  Alice           1\n",
        "1    Bob           2\n",
        "\n",
        "[2 rows x 2 columns]"
       ]
      }
     ],
     "prompt_number": 156
    },
    {
     "cell_type": "code",
     "collapsed": false,
     "input": [
      "Grades = pd.DataFrame({'student_id': [1, 1, 2, 2], 'class_id': [1, 2, 1, 3], 'grade': ['A', 'C', 'B', 'B']})\n",
      "Grades"
     ],
     "language": "python",
     "metadata": {},
     "outputs": [
      {
       "html": [
        "<div style=\"max-height:1000px;max-width:1500px;overflow:auto;\">\n",
        "<table border=\"1\" class=\"dataframe\">\n",
        "  <thead>\n",
        "    <tr style=\"text-align: right;\">\n",
        "      <th></th>\n",
        "      <th>class</th>\n",
        "      <th>grade</th>\n",
        "      <th>student_id</th>\n",
        "    </tr>\n",
        "  </thead>\n",
        "  <tbody>\n",
        "    <tr>\n",
        "      <th>0</th>\n",
        "      <td>    Math</td>\n",
        "      <td> A</td>\n",
        "      <td> 1</td>\n",
        "    </tr>\n",
        "    <tr>\n",
        "      <th>1</th>\n",
        "      <td> English</td>\n",
        "      <td> C</td>\n",
        "      <td> 1</td>\n",
        "    </tr>\n",
        "    <tr>\n",
        "      <th>2</th>\n",
        "      <td>    Math</td>\n",
        "      <td> B</td>\n",
        "      <td> 2</td>\n",
        "    </tr>\n",
        "    <tr>\n",
        "      <th>3</th>\n",
        "      <td> Spanish</td>\n",
        "      <td> B</td>\n",
        "      <td> 2</td>\n",
        "    </tr>\n",
        "  </tbody>\n",
        "</table>\n",
        "<p>4 rows \u00d7 3 columns</p>\n",
        "</div>"
       ],
       "metadata": {},
       "output_type": "pyout",
       "prompt_number": 159,
       "text": [
        "     class grade  student_id\n",
        "0     Math     A           1\n",
        "1  English     C           1\n",
        "2     Math     B           2\n",
        "3  Spanish     B           2\n",
        "\n",
        "[4 rows x 3 columns]"
       ]
      }
     ],
     "prompt_number": 159
    },
    {
     "cell_type": "markdown",
     "metadata": {},
     "source": [
      "Let's say we want to know all of Bob's grades.\n",
      "Then, we can look up Bob's student ID in the Students table, and with the ID, look up his grades in the Grades table.\n",
      "Joins naturally express this process: when two tables share a common type of column (student ID in this case), we can join the tables together to get a complete view.\n",
      "\n",
      "In Pandas, we can use the **merge** method to perform a join.\n",
      "Pass the two tables to join as the first arguments, then the \"on\" parameter is set to the join column name."
     ]
    },
    {
     "cell_type": "code",
     "collapsed": false,
     "input": [
      "pd.merge(Students, Grades, on='student_id')"
     ],
     "language": "python",
     "metadata": {},
     "outputs": [
      {
       "html": [
        "<div style=\"max-height:1000px;max-width:1500px;overflow:auto;\">\n",
        "<table border=\"1\" class=\"dataframe\">\n",
        "  <thead>\n",
        "    <tr style=\"text-align: right;\">\n",
        "      <th></th>\n",
        "      <th>name</th>\n",
        "      <th>student_id</th>\n",
        "      <th>class</th>\n",
        "      <th>grade</th>\n",
        "    </tr>\n",
        "  </thead>\n",
        "  <tbody>\n",
        "    <tr>\n",
        "      <th>0</th>\n",
        "      <td> Alice</td>\n",
        "      <td> 1</td>\n",
        "      <td>    Math</td>\n",
        "      <td> A</td>\n",
        "    </tr>\n",
        "    <tr>\n",
        "      <th>1</th>\n",
        "      <td> Alice</td>\n",
        "      <td> 1</td>\n",
        "      <td> English</td>\n",
        "      <td> C</td>\n",
        "    </tr>\n",
        "    <tr>\n",
        "      <th>2</th>\n",
        "      <td>   Bob</td>\n",
        "      <td> 2</td>\n",
        "      <td>    Math</td>\n",
        "      <td> B</td>\n",
        "    </tr>\n",
        "    <tr>\n",
        "      <th>3</th>\n",
        "      <td>   Bob</td>\n",
        "      <td> 2</td>\n",
        "      <td> Spanish</td>\n",
        "      <td> B</td>\n",
        "    </tr>\n",
        "  </tbody>\n",
        "</table>\n",
        "<p>4 rows \u00d7 4 columns</p>\n",
        "</div>"
       ],
       "metadata": {},
       "output_type": "pyout",
       "prompt_number": 160,
       "text": [
        "    name  student_id    class grade\n",
        "0  Alice           1     Math     A\n",
        "1  Alice           1  English     C\n",
        "2    Bob           2     Math     B\n",
        "3    Bob           2  Spanish     B\n",
        "\n",
        "[4 rows x 4 columns]"
       ]
      }
     ],
     "prompt_number": 160
    },
    {
     "cell_type": "markdown",
     "metadata": {},
     "source": [
      "### DIY\n",
      "\n",
      "1. Use **merge** to join Grades with the Classes table below, and find out what class Alice got an A in."
     ]
    },
    {
     "cell_type": "code",
     "collapsed": false,
     "input": [
      "Classes = pd.DataFrame({'class_id': [1, 2, 3], 'name': ['Math', 'English', 'Spanish']})"
     ],
     "language": "python",
     "metadata": {},
     "outputs": []
    },
    {
     "cell_type": "markdown",
     "metadata": {},
     "source": [
      "# Joining the Restaurant Data\n",
      "\n",
      "Now let's load the restaurant data that we will be analyzing:"
     ]
    },
    {
     "cell_type": "code",
     "collapsed": false,
     "input": [
      "resto = pd.read_csv('restaurant4.csv')\n",
      "resto.info()"
     ],
     "language": "python",
     "metadata": {},
     "outputs": [
      {
       "output_type": "stream",
       "stream": "stdout",
       "text": [
        "<class 'pandas.core.frame.DataFrame'>\n",
        "Int64Index: 858 entries, 0 to 857\n",
        "Data columns (total 4 columns):\n",
        "id         858 non-null int64\n",
        "cluster    858 non-null int64\n",
        "name       858 non-null object\n",
        "city       858 non-null object\n",
        "dtypes: int64(2), object(2)"
       ]
      }
     ],
     "prompt_number": 101
    },
    {
     "cell_type": "code",
     "collapsed": false,
     "input": [
      "resto[:10]"
     ],
     "language": "python",
     "metadata": {},
     "outputs": [
      {
       "html": [
        "<div style=\"max-height:1000px;max-width:1500px;overflow:auto;\">\n",
        "<table border=\"1\" class=\"dataframe\">\n",
        "  <thead>\n",
        "    <tr style=\"text-align: right;\">\n",
        "      <th></th>\n",
        "      <th>id</th>\n",
        "      <th>cluster</th>\n",
        "      <th>name</th>\n",
        "      <th>city</th>\n",
        "    </tr>\n",
        "  </thead>\n",
        "  <tbody>\n",
        "    <tr>\n",
        "      <th>0</th>\n",
        "      <td> 560</td>\n",
        "      <td> 453</td>\n",
        "      <td>           2223</td>\n",
        "      <td> san francisco</td>\n",
        "    </tr>\n",
        "    <tr>\n",
        "      <th>1</th>\n",
        "      <td> 781</td>\n",
        "      <td> 675</td>\n",
        "      <td>       103 west</td>\n",
        "      <td>       atlanta</td>\n",
        "    </tr>\n",
        "    <tr>\n",
        "      <th>2</th>\n",
        "      <td> 279</td>\n",
        "      <td> 172</td>\n",
        "      <td>        20 mott</td>\n",
        "      <td>      new york</td>\n",
        "    </tr>\n",
        "    <tr>\n",
        "      <th>3</th>\n",
        "      <td>  43</td>\n",
        "      <td>  23</td>\n",
        "      <td>        21 club</td>\n",
        "      <td>      new york</td>\n",
        "    </tr>\n",
        "    <tr>\n",
        "      <th>4</th>\n",
        "      <td>  44</td>\n",
        "      <td>  23</td>\n",
        "      <td>        21 club</td>\n",
        "      <td> new york city</td>\n",
        "    </tr>\n",
        "    <tr>\n",
        "      <th>5</th>\n",
        "      <td> 280</td>\n",
        "      <td> 173</td>\n",
        "      <td> 9 jones street</td>\n",
        "      <td>      new york</td>\n",
        "    </tr>\n",
        "    <tr>\n",
        "      <th>6</th>\n",
        "      <td> 486</td>\n",
        "      <td> 379</td>\n",
        "      <td>          abbey</td>\n",
        "      <td>       atlanta</td>\n",
        "    </tr>\n",
        "    <tr>\n",
        "      <th>7</th>\n",
        "      <td> 145</td>\n",
        "      <td>  74</td>\n",
        "      <td>        abruzzi</td>\n",
        "      <td>       atlanta</td>\n",
        "    </tr>\n",
        "    <tr>\n",
        "      <th>8</th>\n",
        "      <td> 146</td>\n",
        "      <td>  74</td>\n",
        "      <td>        abruzzi</td>\n",
        "      <td>       atlanta</td>\n",
        "    </tr>\n",
        "    <tr>\n",
        "      <th>9</th>\n",
        "      <td> 561</td>\n",
        "      <td> 454</td>\n",
        "      <td>     acquarello</td>\n",
        "      <td> san francisco</td>\n",
        "    </tr>\n",
        "  </tbody>\n",
        "</table>\n",
        "<p>10 rows \u00d7 4 columns</p>\n",
        "</div>"
       ],
       "metadata": {},
       "output_type": "pyout",
       "prompt_number": 158,
       "text": [
        "    id  cluster            name           city\n",
        "0  560      453            2223  san francisco\n",
        "1  781      675        103 west        atlanta\n",
        "2  279      172         20 mott       new york\n",
        "3   43       23         21 club       new york\n",
        "4   44       23         21 club  new york city\n",
        "5  280      173  9 jones street       new york\n",
        "6  486      379           abbey        atlanta\n",
        "7  145       74         abruzzi        atlanta\n",
        "8  146       74         abruzzi        atlanta\n",
        "9  561      454      acquarello  san francisco\n",
        "\n",
        "[10 rows x 4 columns]"
       ]
      }
     ],
     "prompt_number": 158
    },
    {
     "cell_type": "markdown",
     "metadata": {},
     "source": [
      "The restaurant data has four columns.\n",
      "**id** is a unique ID field (unique for each row), **name** is the name of the restaurant, and **city** is where it is located.\n",
      "The fourth column, **cluster**, is a \"gold standard\" column.\n",
      "If two records have the same **cluster**, that means they are both about the same restaurant.\n",
      "\n",
      "The type of join we made above between Students and Grades, where we link records with equal values in a common column, is called an *equijoin*.\n",
      "Equijoins may join on more than one column, too (both value have to match).\n",
      "\n",
      "Let's use an equijoin to find pairs of duplicate restaurant records.\n",
      "We join the data to itself, on the **cluster** column.\n",
      "\n",
      "The result (\"clusters\" below) has a lot of extra records in it.\n",
      "For example, since we're joining a table to itself, every record matches itself.\n",
      "We can filter on IDs to get rid of these extra join results.\n",
      "Note that when Pandas joins two tables that have columns with the same name, it appends \"_x\" and \"_y\" to the names to distinguish them."
     ]
    },
    {
     "cell_type": "code",
     "collapsed": false,
     "input": [
      "clusters = pd.merge(resto, resto, on='cluster')\n",
      "clusters = clusters[clusters.id_x != clusters.id_y]\n",
      "clusters[:10]"
     ],
     "language": "python",
     "metadata": {},
     "outputs": [
      {
       "html": [
        "<div style=\"max-height:1000px;max-width:1500px;overflow:auto;\">\n",
        "<table border=\"1\" class=\"dataframe\">\n",
        "  <thead>\n",
        "    <tr style=\"text-align: right;\">\n",
        "      <th></th>\n",
        "      <th>id_x</th>\n",
        "      <th>cluster</th>\n",
        "      <th>name_x</th>\n",
        "      <th>city_x</th>\n",
        "      <th>id_y</th>\n",
        "      <th>name_y</th>\n",
        "      <th>city_y</th>\n",
        "    </tr>\n",
        "  </thead>\n",
        "  <tbody>\n",
        "    <tr>\n",
        "      <th>0</th>\n",
        "      <td> 560</td>\n",
        "      <td> 453</td>\n",
        "      <td>           2223</td>\n",
        "      <td> san francisco</td>\n",
        "      <td> 560</td>\n",
        "      <td>           2223</td>\n",
        "      <td> san francisco</td>\n",
        "    </tr>\n",
        "    <tr>\n",
        "      <th>1</th>\n",
        "      <td> 781</td>\n",
        "      <td> 675</td>\n",
        "      <td>       103 west</td>\n",
        "      <td>       atlanta</td>\n",
        "      <td> 781</td>\n",
        "      <td>       103 west</td>\n",
        "      <td>       atlanta</td>\n",
        "    </tr>\n",
        "    <tr>\n",
        "      <th>2</th>\n",
        "      <td> 279</td>\n",
        "      <td> 172</td>\n",
        "      <td>        20 mott</td>\n",
        "      <td>      new york</td>\n",
        "      <td> 279</td>\n",
        "      <td>        20 mott</td>\n",
        "      <td>      new york</td>\n",
        "    </tr>\n",
        "    <tr>\n",
        "      <th>3</th>\n",
        "      <td>  43</td>\n",
        "      <td>  23</td>\n",
        "      <td>        21 club</td>\n",
        "      <td>      new york</td>\n",
        "      <td>  43</td>\n",
        "      <td>        21 club</td>\n",
        "      <td>      new york</td>\n",
        "    </tr>\n",
        "    <tr>\n",
        "      <th>4</th>\n",
        "      <td>  43</td>\n",
        "      <td>  23</td>\n",
        "      <td>        21 club</td>\n",
        "      <td>      new york</td>\n",
        "      <td>  44</td>\n",
        "      <td>        21 club</td>\n",
        "      <td> new york city</td>\n",
        "    </tr>\n",
        "    <tr>\n",
        "      <th>5</th>\n",
        "      <td>  44</td>\n",
        "      <td>  23</td>\n",
        "      <td>        21 club</td>\n",
        "      <td> new york city</td>\n",
        "      <td>  43</td>\n",
        "      <td>        21 club</td>\n",
        "      <td>      new york</td>\n",
        "    </tr>\n",
        "    <tr>\n",
        "      <th>6</th>\n",
        "      <td>  44</td>\n",
        "      <td>  23</td>\n",
        "      <td>        21 club</td>\n",
        "      <td> new york city</td>\n",
        "      <td>  44</td>\n",
        "      <td>        21 club</td>\n",
        "      <td> new york city</td>\n",
        "    </tr>\n",
        "    <tr>\n",
        "      <th>7</th>\n",
        "      <td> 280</td>\n",
        "      <td> 173</td>\n",
        "      <td> 9 jones street</td>\n",
        "      <td>      new york</td>\n",
        "      <td> 280</td>\n",
        "      <td> 9 jones street</td>\n",
        "      <td>      new york</td>\n",
        "    </tr>\n",
        "    <tr>\n",
        "      <th>8</th>\n",
        "      <td> 486</td>\n",
        "      <td> 379</td>\n",
        "      <td>          abbey</td>\n",
        "      <td>       atlanta</td>\n",
        "      <td> 486</td>\n",
        "      <td>          abbey</td>\n",
        "      <td>       atlanta</td>\n",
        "    </tr>\n",
        "    <tr>\n",
        "      <th>9</th>\n",
        "      <td> 145</td>\n",
        "      <td>  74</td>\n",
        "      <td>        abruzzi</td>\n",
        "      <td>       atlanta</td>\n",
        "      <td> 145</td>\n",
        "      <td>        abruzzi</td>\n",
        "      <td>       atlanta</td>\n",
        "    </tr>\n",
        "  </tbody>\n",
        "</table>\n",
        "<p>10 rows \u00d7 7 columns</p>\n",
        "</div>"
       ],
       "metadata": {},
       "output_type": "pyout",
       "prompt_number": 164,
       "text": [
        "   id_x  cluster          name_x         city_x  id_y          name_y  \\\n",
        "0   560      453            2223  san francisco   560            2223   \n",
        "1   781      675        103 west        atlanta   781        103 west   \n",
        "2   279      172         20 mott       new york   279         20 mott   \n",
        "3    43       23         21 club       new york    43         21 club   \n",
        "4    43       23         21 club       new york    44         21 club   \n",
        "5    44       23         21 club  new york city    43         21 club   \n",
        "6    44       23         21 club  new york city    44         21 club   \n",
        "7   280      173  9 jones street       new york   280  9 jones street   \n",
        "8   486      379           abbey        atlanta   486           abbey   \n",
        "9   145       74         abruzzi        atlanta   145         abruzzi   \n",
        "\n",
        "          city_y  \n",
        "0  san francisco  \n",
        "1        atlanta  \n",
        "2       new york  \n",
        "3       new york  \n",
        "4  new york city  \n",
        "5       new york  \n",
        "6  new york city  \n",
        "7       new york  \n",
        "8        atlanta  \n",
        "9        atlanta  \n",
        "\n",
        "[10 rows x 7 columns]"
       ]
      }
     ],
     "prompt_number": 164
    },
    {
     "cell_type": "markdown",
     "metadata": {},
     "source": [
      "### DIY\n",
      "\n",
      "1. There are still extra records in *clusters*, above.  If records *A* and *B* match each other, then we will get both (*A*, *B*) and (*B*, *A*) in the output.\n",
      "Filter *clusters* so that we only keep one instance of each matching pair (HINT: use the IDs again).\n"
     ]
    },
    {
     "cell_type": "code",
     "collapsed": false,
     "input": [],
     "language": "python",
     "metadata": {},
     "outputs": []
    },
    {
     "cell_type": "markdown",
     "metadata": {},
     "source": [
      "## Fuzzy Joins\n",
      "\n",
      "Sometimes an equijoin isn't good enough.\n",
      "\n",
      "Say you want to match up records that are *almost* equal in a column.\n",
      "Or where a *function* of a columns is equal.\n",
      "Or maybe you don't care about equality: maybe \"less than\" or \"greater than or equal to\" is what you want.\n",
      "These cases call for a more general join than equijoin.\n",
      "\n",
      "We are going to make one of these joins between the restaurants data and itself.\n",
      "Specifically, we want to match up pairs of records whose restaurant names are *almost* the same.\n",
      "We call this a **fuzzy join**.\n",
      "\n",
      "To do a fuzzy join in Pandas we need to go about it in a few steps:\n",
      "\n",
      "1.  Join every record in the first table with every record in the second table. This is called the **Cartesian product** of the tables, and it's simply a list of all possible pairs of records.\n",
      "2.  Add a column to the Cartesian product that measures how \"similar\" each pair of records is. This is our **join criterion**.\n",
      "3.  Filter the Cartesian product based on when the join criterion is \"similar enough.\"\n",
      "\n",
      "> SQL Aside: In SQL, all of joins are supported in about the same way as equijoins are.\n",
      "> Essentially, you write a boolean expression on columns from the join-tables, and whenever that expression is true, you join the records together.\n",
      "> This is very similar to writing an **if** statement in python or Java.\n",
      "\n",
      "Let's do an example to get the hang of it."
     ]
    },
    {
     "cell_type": "markdown",
     "metadata": {},
     "source": [
      "#### 1. Join every record in the first table with every record in the second table.\n",
      "\n",
      "We use a \"dummy\" column to compute the Cartesian product of the data with itself.\n",
      "**dummy** takes the same value for every record, so we can do an equijoin and get back all pairs."
     ]
    },
    {
     "cell_type": "code",
     "collapsed": false,
     "input": [
      "resto['dummy'] = 0\n",
      "prod = pd.merge(resto, resto, on='dummy')\n",
      "\n",
      "# Clean up\n",
      "del prod['dummy']\n",
      "del resto['dummy']\n",
      "\n",
      "# Show that prod is the size of \"resto\" squared:\n",
      "print len(prod), len(resto)**2"
     ],
     "language": "python",
     "metadata": {},
     "outputs": [
      {
       "output_type": "stream",
       "stream": "stdout",
       "text": [
        "736164 736164\n"
       ]
      }
     ],
     "prompt_number": 104
    },
    {
     "cell_type": "code",
     "collapsed": false,
     "input": [
      "prod[:10]"
     ],
     "language": "python",
     "metadata": {},
     "outputs": [
      {
       "html": [
        "<div style=\"max-height:1000px;max-width:1500px;overflow:auto;\">\n",
        "<table border=\"1\" class=\"dataframe\">\n",
        "  <thead>\n",
        "    <tr style=\"text-align: right;\">\n",
        "      <th></th>\n",
        "      <th>id_x</th>\n",
        "      <th>cluster_x</th>\n",
        "      <th>name_x</th>\n",
        "      <th>city_x</th>\n",
        "      <th>id_y</th>\n",
        "      <th>cluster_y</th>\n",
        "      <th>name_y</th>\n",
        "      <th>city_y</th>\n",
        "    </tr>\n",
        "  </thead>\n",
        "  <tbody>\n",
        "    <tr>\n",
        "      <th>0</th>\n",
        "      <td> 560</td>\n",
        "      <td> 453</td>\n",
        "      <td> 2223</td>\n",
        "      <td> san francisco</td>\n",
        "      <td> 560</td>\n",
        "      <td> 453</td>\n",
        "      <td>           2223</td>\n",
        "      <td> san francisco</td>\n",
        "    </tr>\n",
        "    <tr>\n",
        "      <th>1</th>\n",
        "      <td> 560</td>\n",
        "      <td> 453</td>\n",
        "      <td> 2223</td>\n",
        "      <td> san francisco</td>\n",
        "      <td> 781</td>\n",
        "      <td> 675</td>\n",
        "      <td>       103 west</td>\n",
        "      <td>       atlanta</td>\n",
        "    </tr>\n",
        "    <tr>\n",
        "      <th>2</th>\n",
        "      <td> 560</td>\n",
        "      <td> 453</td>\n",
        "      <td> 2223</td>\n",
        "      <td> san francisco</td>\n",
        "      <td> 279</td>\n",
        "      <td> 172</td>\n",
        "      <td>        20 mott</td>\n",
        "      <td>      new york</td>\n",
        "    </tr>\n",
        "    <tr>\n",
        "      <th>3</th>\n",
        "      <td> 560</td>\n",
        "      <td> 453</td>\n",
        "      <td> 2223</td>\n",
        "      <td> san francisco</td>\n",
        "      <td>  43</td>\n",
        "      <td>  23</td>\n",
        "      <td>        21 club</td>\n",
        "      <td>      new york</td>\n",
        "    </tr>\n",
        "    <tr>\n",
        "      <th>4</th>\n",
        "      <td> 560</td>\n",
        "      <td> 453</td>\n",
        "      <td> 2223</td>\n",
        "      <td> san francisco</td>\n",
        "      <td>  44</td>\n",
        "      <td>  23</td>\n",
        "      <td>        21 club</td>\n",
        "      <td> new york city</td>\n",
        "    </tr>\n",
        "    <tr>\n",
        "      <th>5</th>\n",
        "      <td> 560</td>\n",
        "      <td> 453</td>\n",
        "      <td> 2223</td>\n",
        "      <td> san francisco</td>\n",
        "      <td> 280</td>\n",
        "      <td> 173</td>\n",
        "      <td> 9 jones street</td>\n",
        "      <td>      new york</td>\n",
        "    </tr>\n",
        "    <tr>\n",
        "      <th>6</th>\n",
        "      <td> 560</td>\n",
        "      <td> 453</td>\n",
        "      <td> 2223</td>\n",
        "      <td> san francisco</td>\n",
        "      <td> 486</td>\n",
        "      <td> 379</td>\n",
        "      <td>          abbey</td>\n",
        "      <td>       atlanta</td>\n",
        "    </tr>\n",
        "    <tr>\n",
        "      <th>7</th>\n",
        "      <td> 560</td>\n",
        "      <td> 453</td>\n",
        "      <td> 2223</td>\n",
        "      <td> san francisco</td>\n",
        "      <td> 145</td>\n",
        "      <td>  74</td>\n",
        "      <td>        abruzzi</td>\n",
        "      <td>       atlanta</td>\n",
        "    </tr>\n",
        "    <tr>\n",
        "      <th>8</th>\n",
        "      <td> 560</td>\n",
        "      <td> 453</td>\n",
        "      <td> 2223</td>\n",
        "      <td> san francisco</td>\n",
        "      <td> 146</td>\n",
        "      <td>  74</td>\n",
        "      <td>        abruzzi</td>\n",
        "      <td>       atlanta</td>\n",
        "    </tr>\n",
        "    <tr>\n",
        "      <th>9</th>\n",
        "      <td> 560</td>\n",
        "      <td> 453</td>\n",
        "      <td> 2223</td>\n",
        "      <td> san francisco</td>\n",
        "      <td> 561</td>\n",
        "      <td> 454</td>\n",
        "      <td>     acquarello</td>\n",
        "      <td> san francisco</td>\n",
        "    </tr>\n",
        "  </tbody>\n",
        "</table>\n",
        "<p>10 rows \u00d7 8 columns</p>\n",
        "</div>"
       ],
       "metadata": {},
       "output_type": "pyout",
       "prompt_number": 105,
       "text": [
        "   id_x  cluster_x name_x         city_x  id_y  cluster_y          name_y  \\\n",
        "0   560        453   2223  san francisco   560        453            2223   \n",
        "1   560        453   2223  san francisco   781        675        103 west   \n",
        "2   560        453   2223  san francisco   279        172         20 mott   \n",
        "3   560        453   2223  san francisco    43         23         21 club   \n",
        "4   560        453   2223  san francisco    44         23         21 club   \n",
        "5   560        453   2223  san francisco   280        173  9 jones street   \n",
        "6   560        453   2223  san francisco   486        379           abbey   \n",
        "7   560        453   2223  san francisco   145         74         abruzzi   \n",
        "8   560        453   2223  san francisco   146         74         abruzzi   \n",
        "9   560        453   2223  san francisco   561        454      acquarello   \n",
        "\n",
        "          city_y  \n",
        "0  san francisco  \n",
        "1        atlanta  \n",
        "2       new york  \n",
        "3       new york  \n",
        "4  new york city  \n",
        "5       new york  \n",
        "6        atlanta  \n",
        "7        atlanta  \n",
        "8        atlanta  \n",
        "9  san francisco  \n",
        "\n",
        "[10 rows x 8 columns]"
       ]
      }
     ],
     "prompt_number": 105
    },
    {
     "cell_type": "markdown",
     "metadata": {},
     "source": [
      "### DIY\n",
      "\n",
      "* Like we did with *clusters* remove \"extra\" record pairs, e.g., ones with the same ID."
     ]
    },
    {
     "cell_type": "code",
     "collapsed": false,
     "input": [],
     "language": "python",
     "metadata": {},
     "outputs": []
    },
    {
     "cell_type": "markdown",
     "metadata": {},
     "source": [
      "#### 2. Add a column to the Cartesian product that measures how \"similar\" each pair of records is.\n",
      "\n",
      "In the homework assignment, we used a string similarity metric called *cosine similarity* which measured how many \"tokens\" two strings shared in common.\n",
      "Now, we're going to use an alternative measure of string similarity  called *edit-distance*.\n",
      "[Edit-distance](http://en.wikipedia.org/wiki/Edit_distance) counts the number of simple changes you have to make to a string to turn it into another string.\n",
      "\n",
      "Import the edit distance library:"
     ]
    },
    {
     "cell_type": "code",
     "collapsed": false,
     "input": [
      "import Levenshtein as L\n",
      "\n",
      "L.distance('Hello, World!', 'Hallo, World!')"
     ],
     "language": "python",
     "metadata": {},
     "outputs": [
      {
       "metadata": {},
       "output_type": "pyout",
       "prompt_number": 167,
       "text": [
        "1"
       ]
      }
     ],
     "prompt_number": 167
    },
    {
     "cell_type": "markdown",
     "metadata": {},
     "source": [
      "Next, we add a computed column, named **distance**, that measures the edit distance between the names of two restaurants:"
     ]
    },
    {
     "cell_type": "code",
     "collapsed": false,
     "input": [
      "prod['distance'] = prod.apply(L.distance(r['name_x'], r['name_y']), axis=1)"
     ],
     "language": "python",
     "metadata": {},
     "outputs": [],
     "prompt_number": 110
    },
    {
     "cell_type": "markdown",
     "metadata": {},
     "source": [
      "#### 3.  Filter the Cartesian product based on when the join criterion is \"similar enough.\"\n",
      "\n",
      "Now we complete the join by filtering out pairs or records that aren't equal enough for our liking.\n",
      "As in the first homework assignment, we can only figure out how similar is \"similar enough\" by trying out some different options.\n",
      "Let's try maximum edit-distance from 0 to 10 and compute precision and recall."
     ]
    },
    {
     "cell_type": "code",
     "collapsed": false,
     "input": [
      "\n",
      "def accuracy(max_distance):\n",
      "    similar = prod[prod.distance < d]\n",
      "    correct = float(sum(similar.cluster_x == similar.cluster_y))\n",
      "    precision = correct / len(similar)\n",
      "    recall = correct / len(clusters)\n",
      "    return (precision, recall)\n",
      "\n",
      "thresholds = range(1, 11)\n",
      "p = []\n",
      "r = []\n",
      "for d in thresholds:\n",
      "    acc = accuracy(d)\n",
      "    p.append(acc[0])\n",
      "    r.append(acc[1])\n",
      "\n",
      "pylab.plot(t, p)\n",
      "pylab.plot(t, r)\n",
      "pylab.legend(['precision', 'recall'])"
     ],
     "language": "python",
     "metadata": {},
     "outputs": [
      {
       "output_type": "stream",
       "stream": "stdout",
       "text": [
        "[0.0, 0.1, 0.2, 0.3, 0.4, 0.5, 0.6, 0.7, 0.8, 0.9]\n",
        "[0.00029520706268972626, 0.0003041432342476759, 0.000399323410523302, 0.0008421529965261189, 0.0041602714274174, 0.02336448598130841, 0.08428446005267778, 0.2979452054794521, 0.7105263157894737, 0.8863636363636364]\n",
        "[1.0, 1.0, 1.0, 0.9811320754716981, 0.9716981132075472, 0.9433962264150944, 0.9056603773584906, 0.8207547169811321, 0.7641509433962265, 0.7358490566037735]\n"
       ]
      },
      {
       "metadata": {},
       "output_type": "pyout",
       "prompt_number": 150,
       "text": [
        "<matplotlib.legend.Legend at 0x107d49c90>"
       ]
      },
      {
       "metadata": {},
       "output_type": "display_data",
       "png": "[encoded data removed]",
       "text": [
        "<matplotlib.figure.Figure at 0x111426a90>"
       ]
      }
     ],
     "prompt_number": 150
    },
    {
     "cell_type": "code",
     "collapsed": false,
     "input": [
      "pylab.scatter(p, r)"
     ],
     "language": "python",
     "metadata": {},
     "outputs": [
      {
       "metadata": {},
       "output_type": "pyout",
       "prompt_number": 151,
       "text": [
        "<matplotlib.collections.PathCollection at 0x1114813d0>"
       ]
      },
      {
       "metadata": {},
       "output_type": "display_data",
       "png": "[encoded data removed]",
       "text": [
        "<matplotlib.figure.Figure at 0x10c030450>"
       ]
      }
     ],
     "prompt_number": 151
    }
   ],
   "metadata": {}
  }
 ]
}