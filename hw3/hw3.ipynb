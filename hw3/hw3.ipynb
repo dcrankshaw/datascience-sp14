{
 "metadata": {
  "name": ""
 },
 "nbformat": 3,
 "nbformat_minor": 0,
 "worksheets": [
  {
   "cells": [
    {
     "cell_type": "markdown",
     "metadata": {},
     "source": [
      "CS194-16: Introduction to Data Science\n",
      "\n",
      "__Name:__ *Please put your name*\n",
      "\n",
      "__Student ID:__ *Please put your student id*"
     ]
    },
    {
     "cell_type": "markdown",
     "metadata": {},
     "source": [
      "# Homework 3: Predicting Movie Ratings\n",
      "\n",
      "One of the most common uses of data is to predict what users want.  Predicting what users want allows websites to make more money by displaying more relevant ads, allows advertisers to make more money by targeting interested users, and allows online stores to make more money by recommending products to users.  While you may not like the idea of advertisers and stores figuring out what you want to make more money, it can also be useful to you as a consumer.  Sometimes those recommended products on Amazon or recommended movies on Netflix are actually things that you want!\n",
      "\n",
      "In this assignment, you'll explore how to recommend movies to a user.  We'll start with some basic methods, and then use machine learning to do more sophisticated predictions.\n",
      "\n",
      "As in the lab, we have a cluster up and running for you to use to do the homework.  Each group has been emailed the URL for a cluster that you can log into to complete the homework.  You should use the iPython notebook at that URL to complete your homework, this version is for reference only!  If you did not receive login information yet, please post a private note in Piazza ASAP so we can resolve the issue.\n",
      "\n",
      "## Exercise 1: Basic Recommendations\n",
      "\n",
      "a) One way to recommend movies is to always recommend the movies with the highest average rating.  Based on the ratings and movies datasets we used in the lab (located at `movielens/large/ratings.dat` and `/movielens/large/movies.dat`, respectively), use Spark to find the name and average rating of the 10 movies with the highest average rating."
     ]
    },
    {
     "cell_type": "code",
     "collapsed": false,
     "input": [
      "from pyspark import SparkContext\n",
      "### YOUR CODE HERE\n",
      "# As in the lab, the URL of the master is stored in CLUSTER_URL.\n",
      "# The web UI is running on the master at port 8080."
     ],
     "language": "python",
     "metadata": {},
     "outputs": []
    },
    {
     "cell_type": "markdown",
     "metadata": {},
     "source": [
      "__Which 10 movies have the highest average rating?__ *Your answer here*"
     ]
    },
    {
     "cell_type": "markdown",
     "metadata": {},
     "source": [
      "b) The movies you found may seem a bit suspicious.  How many ratings does each of those movies have?"
     ]
    },
    {
     "cell_type": "code",
     "collapsed": false,
     "input": [
      "### YOUR CODE HERE"
     ],
     "language": "python",
     "metadata": {},
     "outputs": []
    },
    {
     "cell_type": "markdown",
     "metadata": {},
     "source": [
      "c) How can you improve your recommendations?  Improve upon your recommendations in part (a) to recommend 10 movies that you expect to be well-liked.  You are not expected to use any sophisticated machine learning techniques here; using just the Spark operations we learned in lab is sufficient."
     ]
    },
    {
     "cell_type": "code",
     "collapsed": false,
     "input": [
      "### YOUR CODE HERE"
     ],
     "language": "python",
     "metadata": {},
     "outputs": []
    },
    {
     "cell_type": "markdown",
     "metadata": {},
     "source": [
      "__Which 10 movies does your new code recommend?  Describe how you improved on the recommendations in part (a) in at most 4 sentences.__ *Your answer here*"
     ]
    },
    {
     "cell_type": "markdown",
     "metadata": {},
     "source": [
      "## Exercise 2: Understanding Parallelism\n",
      "\n",
      "Before doing more sophisticated analysis of the movies dataset, let's optimize the performance.  In the lab, we saw that the number of partitions that a dataset is broken into can have a big affect on the response time of jobs run on that dataset.  In this part of the assignment, you'll determine the optimal number of partitions to break datasets into.\n",
      "\n",
      "Using Spark and [matplotlib](http://matplotlib.org/index.html), make a graph showing the response time of `count()` on the ratings dataset from the lab (located at `/movielens/large/ratings.dat`), using different numbers of tasks.  Remember that the number of tasks for `count()` is equal to the number of partitions in the dataset.  Make sure that you always call `count()` on a dataset that is in memory; otherwise the time to read the data from disk will skew your measurements."
     ]
    },
    {
     "cell_type": "code",
     "collapsed": false,
     "input": [
      "import matplotlib.pyplot as plot\n",
      "# Magic command to make matplotlib and ipython play nicely together.\n",
      "%matplotlib inline\n",
      "\n",
      "### YOUR CODE HERE"
     ],
     "language": "python",
     "metadata": {},
     "outputs": []
    },
    {
     "cell_type": "markdown",
     "metadata": {},
     "source": [
      "__Explain the shape of the plot in at most 3 sentences.__ *Your answer here*\n",
      "\n",
      "__What is the optimal number of partitions for this dataset and why?__ *Your answer here*"
     ]
    },
    {
     "cell_type": "markdown",
     "metadata": {},
     "source": [
      "## Exercise 3 : Collaborative Filtering\n",
      "\n",
      "You've learned about many of the basic transformations and actions that Spark allows us to do on distributed datasets.  Spark also exposes some higher level functionality; in particular, machine learning using a component of Spark called MLlib.  In this assignment, you'll use MLlib to make personalized movie recommendations for you using the movie data we've been analyzing.\n",
      "\n",
      "Before jumping into the machine learning, you need to break up the dataset into a test set (which we'll use to train models), a validation set (which we'll use to choose the best model), and a test set.  One way that people often partition data is using the time stamp: using the 1's digit of the timestamp is an essentially random way to split the dataset into multiple groups.  Use the 1's digit of the rating timestamp to separate 60% of the data into a training set, 20% into a validation set, and the remaining 20% into a test set.  After creating each dataset, use Spark's `repartition(numPartitions)` function (which re-partitions the dataset into the specified number of partitions) to break each dataset into the optimal number of partitions (which you determined in part 2)."
     ]
    },
    {
     "cell_type": "code",
     "collapsed": false,
     "input": [
      "### YOUR CODE HERE\n",
      "training = # YOUR CODE HERE \n",
      "validation = # YOUR CODE HERE\n",
      "test = # YOUR CODE HERE\n",
      "\n",
      "print \"Training: %s, validation: %s, test: %s\" % (training.count(), validation.count(), test.count())"
     ],
     "language": "python",
     "metadata": {},
     "outputs": []
    },
    {
     "cell_type": "markdown",
     "metadata": {},
     "source": [
      "After splitting the dataset, your training set should have about 60K entries and the validation and test sets should have about 20K entries.\n",
      "\n",
      "Now, to generate movie recommendations, we're going to use a technique called collaborative filtering.  The basic idea of collaborative filtering is that we start with a matrix whose entries are movie ratings.  Each row represents a user and each column represents a particular movie.\n",
      "\n",
      "(MATRIX SHOWN HERE)\n",
      "\n",
      "We don't know all of the entries in this matrix, which is precisely why we need collaborative filtering.  For each user, we have ratings for only a subset of the movies.  With collaborative filtering, the idea is to approximate the ratings matrix as the product of two matrices: one that describes properties of each user, and one that describes properties of each movies.  (GRAPHIC).  We want to select these two matrices such that the error for the users/movie pairs where we know the correct ratings is minimized (TODO: say more about ALS here)."
     ]
    },
    {
     "cell_type": "code",
     "collapsed": false,
     "input": [
      "from pyspark.mllib.recommendation import ALS\n",
      "\n",
      "# Create test data that doesn't have the ratings yet.\n",
      "validation_without_ratings = validation.map(lambda x: (x[0], x[1])).cache()\n",
      "\n",
      "ranks = [8, 12]\n",
      "best_model = None\n",
      "lowest_error = float(\"inf\")\n",
      "best_rank = -1\n",
      "\n",
      "def compute_error(test_rdd, model):\n",
      "    test_data_without_ratings = test_rdd.map(lambda x: (x[0], x[1]))\n",
      "    # predictAll returns an RDD in the form (user, movie, rating).\n",
      "    predictions = model.predictAll(test_data_without_ratings)\n",
      "    # YOUR CODE HERE\n",
      "    # start the map thing here\n",
      "\n",
      "for rank in ranks:\n",
      "    model = ALS.train(training, rank)\n",
      "    # Output: RDD in the format (user, movie), rating\n",
      "    predictions = model.predictAll(validation_without_ratings).map(lambda r: ((r[0], r[1]), r[2]))\n",
      "    # YOUR CODE HERE: compute the root mean squared error\n",
      "    # Remember to put code that can be reused outside of this loop so it doesn't keep getting\n",
      "    # recomputed!\n",
      "    validation_count = validation_without_ratings.count()\n",
      "    ratings_and_preds = validation_without_ratings.map(lambda x: ((x[0], x[1]), x[2])).join(predictions)\n",
      "    # explain to people: can use reduce to just add everything together\n",
      "    total_error = ratings_and_preds.map(lambda r: (r[1][0] - r[1][1])**2).reduce(lambda x,y:x+y)\n",
      "    error = total_error / validation_count\n",
      "    print \"Mean squared error =\", error\n",
      "    if error < lowest_error:\n",
      "        best_model = model\n",
      "        lowest_error = error\n",
      "        best_rank = rank\n",
      "        \n",
      "test_without_ratings = test.map(lambda x: x[0], x[1])\n",
      "test_predictions = model.predictAll(test_without_ratings).map(lambda r: ((r[0], r[1]), r[2]))\n",
      "\n",
      "print (\"The best model was trained with rank %s and it's root mean squared error on the test set is %s\" %\n",
      "       (best_rank, test_error))"
     ],
     "language": "python",
     "metadata": {},
     "outputs": []
    },
    {
     "cell_type": "markdown",
     "metadata": {},
     "source": [
      "# FAQ\n",
      "\n",
      "### How do I get to the UI?\n",
      "\n",
      "The UI for the Spark master is on port 8080, and the hostname is stored as part of the `CLUSTER_URL` variable pre-loaded into this notebook.  From the master UI, you can find the link to your application's UI.\n",
      "\n",
      "### What are all of the operations I can do on a Spark dataset (RDD)?\n",
      "\n",
      "[This Page](http://spark.apache.org/docs/0.9.0/api/pyspark/index.html) lists all of the operations you can do on a Spark RDD.  Spark also has a Scala API (Scala is a programming language similar to Java); the [documentation for the Scala functions](http://spark.apache.org/docs/0.9.0/scala-programming-guide.html) is sometimes more helpful, and the Python functions work in the same way.\n",
      "\n",
      "### How do I use matplotlib?\n",
      "\n",
      "There are lots of good examples on the [matplotlib website](http://matplotlib.org/index.html).  For example, [this page](http://matplotlib.org/examples/pylab_examples/simple_plot.html) shows how to plot a single line."
     ]
    }
   ],
   "metadata": {}
  }
 ]
}